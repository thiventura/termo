{
  "nbformat": 4,
  "nbformat_minor": 0,
  "metadata": {
    "colab": {
      "name": "Termo.ipynb",
      "provenance": [],
      "collapsed_sections": []
    },
    "kernelspec": {
      "name": "python3",
      "display_name": "Python 3"
    },
    "language_info": {
      "name": "python"
    }
  },
  "cells": [
    {
      "cell_type": "markdown",
      "source": [
        "Lista de todas as palavras com 5 letras da língua portuguesa"
      ],
      "metadata": {
        "id": "H3_zD0o0-IFo"
      }
    },
    {
      "cell_type": "code",
      "execution_count": 2,
      "metadata": {
        "id": "25dI1jpI9uu2"
      },
      "outputs": [],
      "source": [
        "# Obtendo palavras da língua portuguesa\n",
        "import pandas as pd\n",
        "df = pd.read_csv('https://raw.githubusercontent.com/fserb/pt-br/master/dicio')\n",
        "s = df.iloc[:,0]\n",
        "\n",
        "# Filtrando apenas as palavras com 5 dígitos\n",
        "palavras = s[s.str.len() == 5]"
      ]
    },
    {
      "cell_type": "markdown",
      "source": [
        "Análise por classes gramaticais"
      ],
      "metadata": {
        "id": "moyt_e5aHGC9"
      }
    },
    {
      "cell_type": "code",
      "source": [
        "!python -m spacy download pt_core_news_sm"
      ],
      "metadata": {
        "id": "uYbjy8caHIm_"
      },
      "execution_count": null,
      "outputs": []
    },
    {
      "cell_type": "code",
      "source": [
        "import spacy\n",
        "import pkg_resources,imp\n",
        "imp.reload(pkg_resources)\n",
        "nlp = spacy.load(\"pt_core_news_sm\")"
      ],
      "metadata": {
        "id": "lCuXyTwzHVOT"
      },
      "execution_count": 4,
      "outputs": []
    },
    {
      "cell_type": "code",
      "source": [
        "classes = {}\n",
        "classes[\"PROPN\"] = 0\n",
        "classes[\"VERB\"] = 0\n",
        "classes[\"ADV\"] = 0\n",
        "classes[\"ADP\"] = 0\n",
        "classes[\"NOUN\"] = 0\n",
        "classes[\"DET\"] = 0\n",
        "classes[\"ADJ\"] = 0\n",
        "classes[\"PRON\"] = 0\n",
        "classes[\"INTJ\"] = 0\n",
        "classes[\"NUM\"] = 0\n",
        "classes[\"AUX\"] = 0\n",
        "\n",
        "for p in palavras:\n",
        "  token = nlp(p)[0]\n",
        "  classes[token.pos_] = classes[token.pos_] + 1\n",
        "\n",
        "print(classes)"
      ],
      "metadata": {
        "colab": {
          "base_uri": "https://localhost:8080/"
        },
        "id": "zUgL39inJcid",
        "outputId": "b82a08a6-d964-4849-afb2-9a3ce675179a"
      },
      "execution_count": 5,
      "outputs": [
        {
          "output_type": "stream",
          "name": "stdout",
          "text": [
            "{'PROPN': 1679, 'VERB': 2039, 'ADV': 248, 'ADP': 28, 'NOUN': 8371, 'DET': 4, 'ADJ': 188, 'PRON': 9, 'INTJ': 16, 'NUM': 3, 'AUX': 1}\n"
          ]
        }
      ]
    },
    {
      "cell_type": "markdown",
      "source": [
        "Ver popularidade de cada palavra\n",
        "\n",
        "Será visto o quanto uma palavra se repete em textos de livros escolares.\n",
        "\n",
        "Base: https://github.com/gazzola/corpus_readability_nlp_portuguese\n"
      ],
      "metadata": {
        "id": "1akMOs7mbKvA"
      }
    },
    {
      "cell_type": "code",
      "source": [
        "import requests\n",
        "import urllib.request\n",
        "\n",
        "LIMITE = 10 * 1024 * 1024\n",
        "\n",
        "# Obter arquivos e ler conteúdos\n",
        "user = \"gazzola\"\n",
        "repo = \"corpus_readability_nlp_portuguese\"\n",
        "url = \"https://api.github.com/repos/{}/{}/git/trees/master?recursive=1\".format(user, repo)\n",
        "res = requests.get(url).json()\n",
        "conteudo = \"\"\n",
        "for file in res[\"tree\"]:\n",
        "  fileUrl = \"https://raw.githubusercontent.com/{}/{}/master/{}\".format(user, repo, file[\"path\"])\n",
        "  if fileUrl.endswith(\".txt\"):\n",
        "    data = urllib.request.urlopen(fileUrl)\n",
        "    for line in data:\n",
        "      conteudo += \" \" + line.decode('utf-8')\n",
        "\n",
        "  print(LIMITE, len(conteudo))    \n",
        "  if len(conteudo) > LIMITE:\n",
        "    break"
      ],
      "metadata": {
        "id": "Eyh9N-OMbX5S"
      },
      "execution_count": null,
      "outputs": []
    },
    {
      "cell_type": "code",
      "source": [
        "# popularidade de cada palavra\n",
        "popularidade = {}\n",
        "\n",
        "# Para cada palavra, verificar quantas ocorrências existem no conteúdo selecionado\n",
        "conteudoSeparado = conteudo.lower().split()\n",
        "for i in range(len(palavras)):\n",
        "  popularidade[palavras.iloc[i]] = conteudoSeparado.count(palavras.iloc[i])"
      ],
      "metadata": {
        "id": "4MT4xES37Jyq"
      },
      "execution_count": 25,
      "outputs": []
    },
    {
      "cell_type": "markdown",
      "source": [
        "Limpeza de palavras com acentos e ç"
      ],
      "metadata": {
        "id": "BmpxTbX5cm3n"
      }
    },
    {
      "cell_type": "code",
      "source": [
        "# limpando as chaves\n",
        "for k in popularidade:\n",
        "  keyLimpa = k\n",
        "\n",
        "  keyLimpa = keyLimpa.replace(\"á\", \"a\")\n",
        "  keyLimpa = keyLimpa.replace(\"ã\", \"a\")\n",
        "  keyLimpa = keyLimpa.replace(\"â\", \"a\")\n",
        "  keyLimpa = keyLimpa.replace(\"é\", \"e\")\n",
        "  keyLimpa = keyLimpa.replace(\"ê\", \"e\")\n",
        "  keyLimpa = keyLimpa.replace(\"í\", \"i\")\n",
        "  keyLimpa = keyLimpa.replace(\"ï\", \"i\")\n",
        "  keyLimpa = keyLimpa.replace(\"ó\", \"o\")\n",
        "  keyLimpa = keyLimpa.replace(\"ô\", \"o\")\n",
        "  keyLimpa = keyLimpa.replace(\"õ\", \"o\")\n",
        "  keyLimpa = keyLimpa.replace(\"ú\", \"u\")\n",
        "  keyLimpa = keyLimpa.replace(\"ç\", \"c\")\n",
        "\n",
        "  popularidade[keyLimpa] = popularidade.pop(k)"
      ],
      "metadata": {
        "id": "DunK-JSsD8Fl"
      },
      "execution_count": 30,
      "outputs": []
    },
    {
      "cell_type": "code",
      "source": [
        "palavras = palavras.str.replace(\"á\", \"a\")\n",
        "palavras = palavras.str.replace(\"à\", \"a\")\n",
        "palavras = palavras.str.replace(\"ã\", \"a\")\n",
        "palavras = palavras.str.replace(\"â\", \"a\")\n",
        "palavras = palavras.str.replace(\"é\", \"e\")\n",
        "palavras = palavras.str.replace(\"ê\", \"e\")\n",
        "palavras = palavras.str.replace(\"í\", \"i\")\n",
        "palavras = palavras.str.replace(\"ï\", \"i\")\n",
        "palavras = palavras.str.replace(\"ó\", \"o\")\n",
        "palavras = palavras.str.replace(\"ô\", \"o\")\n",
        "palavras = palavras.str.replace(\"õ\", \"o\")\n",
        "palavras = palavras.str.replace(\"ú\", \"u\")\n",
        "palavras = palavras.str.replace(\"ç\", \"c\")"
      ],
      "metadata": {
        "id": "2D70OfldXLZ-"
      },
      "execution_count": 32,
      "outputs": []
    },
    {
      "cell_type": "code",
      "source": [
        "# listando as palavras mais populares\n",
        "NUM_PALAVRAS_POPULARES = 1000\n",
        "count = 0\n",
        "maisPopulares = [None] * NUM_PALAVRAS_POPULARES\n",
        "for w in sorted(popularidade, key=popularidade.get, reverse=True):\n",
        "  maisPopulares[count] = w\n",
        "  count += 1\n",
        "  print(w, popularidade[w])\n",
        "  if count == NUM_PALAVRAS_POPULARES:\n",
        "    break"
      ],
      "metadata": {
        "id": "dsrHWi5ArrP1"
      },
      "execution_count": null,
      "outputs": []
    },
    {
      "cell_type": "code",
      "source": [
        "# Histograma das letas\n",
        "import matplotlib.pyplot as plt\n",
        "\n",
        "peso = [0] * 26\n",
        "for palavra in palavras:\n",
        "  for letra in palavra:\n",
        "    peso[ord(letra)-97] += 1\n",
        "\n",
        "fig, ax = plt.subplots()\n",
        "ax.bar(['a','b','c','d','e','f','g','h','i','j','k','l','m','n','o','p','q','r','s','t','u','v','w','x','y','z'], peso, width=1, edgecolor=\"white\", linewidth=0.7)\n",
        "plt.show()"
      ],
      "metadata": {
        "colab": {
          "base_uri": "https://localhost:8080/",
          "height": 265
        },
        "id": "5N82JZGFWP09",
        "outputId": "70b45a29-0b15-4903-fa2b-c94fcdbc62a9"
      },
      "execution_count": 34,
      "outputs": [
        {
          "output_type": "display_data",
          "data": {
            "text/plain": [
              "<Figure size 432x288 with 1 Axes>"
            ],
            "image/png": "[encoded data removed]"
          },
          "metadata": {
            "needs_background": "light"
          }
        }
      ]
    },
    {
      "cell_type": "markdown",
      "source": [
        "Funções auxiliares"
      ],
      "metadata": {
        "id": "3ukSumPSSuGS"
      }
    },
    {
      "cell_type": "code",
      "source": [
        "# Obter a lista de palavras que podem ser a resposta, baseado nas dicas já fornecidas\n",
        "# certeza: array[5] contendo a letra certa para a respectiva posição\n",
        "# exite: array[n] contendo letras existentes na palavra\n",
        "# nao_existe: array[n] contendo letras que não tem na palavra\n",
        "# nao_existe_na_posicao: array[5] contendo as letras que não existem na respectiva posição\n",
        "def obterPossiveisPalavras(certeza, existe, nao_existe, nao_existe_na_posicao):\n",
        "  letras = 'abcdefghijklmnopqrstuvwxyz'  \n",
        "  \n",
        "  for letra in nao_existe:\n",
        "    letras = letras.replace(letra, \"\")\n",
        "  \n",
        "  regex = \"\"\n",
        "\n",
        "  for i in range(5):\n",
        "    if certeza[i] == \"\":\n",
        "      letrasAtual = letras\n",
        "      nao_na_posicao = nao_existe_na_posicao[i]\n",
        "      for l in nao_na_posicao:\n",
        "        letrasAtual = letrasAtual.replace(l, \"\")\n",
        "      regex += \"[\" + letrasAtual + \"]\"\n",
        "    else:\n",
        "      regex += certeza[i]\n",
        "\n",
        "  selecao = palavras[palavras.str.match(regex)]\n",
        "  \n",
        "  for letra in existe:\n",
        "    selecao = selecao[selecao.str.match(\"[a-z]*\" + letra + \"+\")]\n",
        "\n",
        "  return selecao"
      ],
      "metadata": {
        "id": "zqMVN3QV-QhC"
      },
      "execution_count": 35,
      "outputs": []
    },
    {
      "cell_type": "code",
      "source": [
        "# Obtem o peso da palavra baseado no peso dos caracteres\n",
        "def getPesoPalavra(palavra):\n",
        "  pesoPalavra = 0\n",
        "  duplicado = [0] * 26\n",
        "\n",
        "  for i in range(5):\n",
        "    idx = ord(palavra[i])-97\n",
        "    pesoPalavra += peso[idx]\n",
        "    duplicado[idx] = 1\n",
        "\n",
        "  if sum(duplicado) < 5:\n",
        "    pesoPalavra = int(pesoPalavra/2)\n",
        "\n",
        "  return pesoPalavra"
      ],
      "metadata": {
        "id": "viVOixRCQUz6"
      },
      "execution_count": 36,
      "outputs": []
    },
    {
      "cell_type": "code",
      "source": [
        "# Obtem um valor dependendo da classe da palavra\n",
        "def getValorPorClasse(classe):\n",
        "  if classe == \"NOUN\":\n",
        "    return 20\n",
        "  elif classe == \"VERB\":\n",
        "    return 20\n",
        "  elif classe == \"ADJ\":\n",
        "    return 20\n",
        "\n",
        "  elif classe == \"NUM\":\n",
        "    return 10\n",
        "  elif classe == \"PRON\":\n",
        "    return 10\n",
        "\n",
        "  elif classe == \"ADV\":\n",
        "    return 5\n",
        "  elif classe == \"AUX\":\n",
        "    return 5\n",
        "\n",
        "  else:\n",
        "    return 0\n"
      ],
      "metadata": {
        "id": "s7s00yPkMeV0"
      },
      "execution_count": 37,
      "outputs": []
    },
    {
      "cell_type": "markdown",
      "source": [
        "Estrutura para guardar as estatisticas de todas as palavras validas"
      ],
      "metadata": {
        "id": "4g-69vBeS-Ic"
      }
    },
    {
      "cell_type": "code",
      "source": [
        "stats = {}\n",
        "for p in palavras:\n",
        "  pop = popularidade.get(p, 0)\n",
        "  classe = nlp(p)[0].pos_\n",
        "  pes = getPesoPalavra(p)\n",
        "  stats[p] = (pop, classe, pes)\n",
        "\n",
        "print(stats[\"ficar\"])"
      ],
      "metadata": {
        "colab": {
          "base_uri": "https://localhost:8080/"
        },
        "id": "Yo6yjDQrSPER",
        "outputId": "26eadeda-3e9c-40b9-980b-f5e09d0f93b1"
      },
      "execution_count": 38,
      "outputs": [
        {
          "output_type": "stream",
          "name": "stdout",
          "text": [
            "(118, 'VERB', 23805)\n"
          ]
        }
      ]
    },
    {
      "cell_type": "markdown",
      "source": [
        "Escolhendo a primeira palavra"
      ],
      "metadata": {
        "id": "mmmlc3XWQP0e"
      }
    },
    {
      "cell_type": "code",
      "source": [
        "# Dentre as palavras mais populares, quais possuem mais pesos?\n",
        "pesos = [0] * len(maisPopulares)\n",
        "for i in range(len(maisPopulares)):\n",
        "  pesos[i] = getPesoPalavra(maisPopulares[i])\n",
        "\n",
        "lista1, popularesComMaiorPeso = zip(*sorted(zip(pesos, maisPopulares), reverse=True))\n",
        "print(popularesComMaiorPeso)"
      ],
      "metadata": {
        "colab": {
          "base_uri": "https://localhost:8080/"
        },
        "id": "whoFHedzQN7k",
        "outputId": "32cdab26-6690-41b9-8153-9d1079ccbd02"
      },
      "execution_count": 39,
      "outputs": [
        {
          "output_type": "stream",
          "name": "stdout",
          "text": [
            "('raios', 'serao', 'maior', 'irmao', 'terao', 'seria', 'reais', 'coisa', 'iamos', 'secao', 'acoes', 'lesao', 'radio', 'opera', 'teria', 'limao', 'uniao', 'estao', 'senao', 'verao', 'otima', 'beira', 'oscar', 'caros', 'arcos', 'solar', 'somar', 'ramos', 'sabio', 'seita', 'outra', 'autor', 'entao', 'aneis', 'claro', 'calor', 'marco', 'moral', 'molar', 'varie', 'acido', 'amido', 'copia', 'feira', 'moeda', 'epoca', 'rotas', 'ratos', 'apelo', 'poema', 'visao', 'amigo', 'etica', 'troca', 'traco', 'tocar', 'ricas', 'tomar', 'morta', 'crase', 'cesar', 'laser', 'mares', 'casou', 'norma', 'poeta', 'aonde', 'roupa', 'parou', 'rodas', 'etnia', 'prosa', 'sabor', 'obras', 'criam', 'urina', 'ideal', 'media', 'graos', 'retas', 'resta', 'estar', 'artes', 'torna', 'notar', 'ativo', 'lacos', 'seiva', 'noiva', 'navio', 'corda', 'dolar', 'cobra', 'braco', 'barco', 'polar', 'podia', 'cargo', 'citar', 'largo', 'tiram', 'recta', 'certa', 'letra', 'marte', 'matou', 'dieta', 'carne', 'exato', 'aluno', 'abriu', 'cotas', 'costa', 'salto', 'altos', 'prato', 'porta', 'optar', 'paris', 'valor', 'usado', 'fraco', 'forca', 'focar', 'presa', 'pesar', 'persa', 'pares', 'saber', 'bares', 'flora', 'forma', 'foram', 'abuso', 'obvia', 'horas', 'situa', 'octal', 'entra', 'cheia', 'evita', 'usina', 'feita', 'lidar', 'envia', 'abril', 'impar', 'deram', 'caber', 'pouca', 'ocupa', 'abrem', 'baixo', 'paulo', 'santo', 'notas', 'rocha', 'votar', 'ligar', 'olhar', 'giram', 'frota', 'fator', 'ervas', 'frias', 'geral', 'geram', 'lados', 'damos', 'muita', 'cabos', 'frase', 'major', 'reino', 'bolsa', 'bolas', 'ambos', 'fusao', 'clima', 'unica', 'borda', 'lagos', 'lista', 'mista', 'telas', 'conta', 'canto', 'temas', 'metas', 'incas', 'droga', 'sinal', 'minas', 'nasce', 'cenas', 'nelas', 'trade', 'tarde', 'viram', 'preta', 'parte', 'bater', 'ficar', 'levar', 'vacuo', 'renda', 'saude', 'devia', 'palco', 'bocal', 'campo', 'amplo', 'falou', 'todas', 'guisa', 'guias', 'vasco', 'posta', 'salvo', 'alvos', 'negra', 'vamos', 'tamil', 'latim', 'ondas', 'danos', 'tecla', 'meios', 'falso', 'souza', 'metal', 'vazio', 'vapor', 'prova', 'gotas', 'gosta', 'gatos', 'gasto', 'cuida', 'deixa', 'sinta', 'nesta', 'antes', 'grafo', 'dicas', 'achou', 'igual', 'lapis', 'delas', 'pesca', 'pecas', 'lazer', 'pelas', 'belas', 'banco', 'sabem', 'plano', 'perda', 'pedra', 'padre', 'vasto', 'sigla', 'ligas', 'fatos', 'novas', 'longa', 'magno', 'lojas', 'curta', 'lutar', 'briga', 'turma', 'lenta', 'extra', 'pegar', 'favor', 'lunar', 'prazo', 'bateu', 'limpa', 'ditas', 'jogar', 'atriz', 'pista', 'volta', 'desta', 'silva', 'macho', 'visam', 'ligam', 'leito', 'filas', 'nariz', 'ponta', 'densa', 'faces', 'criou', 'icone', 'pensa', 'penas', 'graus', 'risco', 'ricos', 'heroi', 'zonas', 'grave', 'cores', 'lucas', 'mulas', 'facil', 'quais', 'ficam', 'valem', 'levam', 'mudar', 'duram', 'lenda', 'quase', 'pular', 'plena', 'vista', 'ilhas', 'fitas', 'festa', 'noite', 'lugar', 'finas', 'micro', 'utero', 'sejam', 'comer', 'medio', 'impoe', 'sorte', 'setor', 'retos', 'resto', 'custa', 'lutas', 'vogal', 'vital', 'curva', 'final', 'fixar', 'haste', 'litro', 'ritmo', 'terco', 'corte', 'certo', 'haver', 'crise', 'vidas', 'termo', 'morte', 'metro', 'suico', 'culta', 'eixos', 'peito', 'menor', 'mouse', 'belga', 'ruido', 'fazer', 'china', 'linha', 'minha', 'jogam', 'dores', 'gerou', 'fruta', 'cinza', 'preso', 'sobre', 'crime', 'busca', 'skate', 'ajude', 'torne', 'norte', 'estou', 'cheio', 'helio', 'folha', 'banho', 'lemos', 'feito', 'virou', 'ouvir', 'envio', 'primo', 'impor', 'ordem', 'dorme', 'preco', 'cobre', 'berco', 'prole', 'porem', 'culpa', 'ganho', 'tinha', 'album', 'daqui', 'tenha', 'queda', 'muito', 'sofre', 'algum', 'pilha', 'fusca', 'vinda', 'fixas', 'unico', 'venda', 'mitos', 'chega', 'lotes', 'temos', 'curso', 'tribo', 'jeito', 'livro', 'nomes', 'menos', 'preto', 'porte', 'perto', 'obter', 'mover', 'video', 'forem', 'nobre', 'soube', 'trigo', 'puxar', 'negro', 'uteis', 'suite', 'chave', 'zeros', 'ficha', 'velha', 'filha', 'cujas', 'fecha', 'lucro', 'lider', 'medir', 'fazem', 'surto', 'vetor', 'disco', 'lidos', 'forte', 'doces', 'pelos', 'imune', 'poder', 'pobre', 'dupla', 'cinto', 'times', 'vinha', 'curto', 'cento', 'venha', 'tumor', 'lento', 'ontem', 'monte', 'livre', 'unido', 'firme', 'ficou', 'limpo', 'levou', 'tidos', 'ditos', 'disto', 'tipos', 'vimos', 'voces', 'filos', 'vemos', 'sendo', 'denso', 'vidro', 'supor', 'puros', 'prove', 'verbo', 'gnose', 'tenis', 'itens', 'tiver', 'turno', 'slide', 'tempo', 'obtem', 'movel', 'conde', 'joule', 'pleno', 'nobel', 'pedir', 'visto', 'expor', 'longe', 'monge', 'junta', 'furos', 'gripe', 'pegou', 'coque', 'custo', 'jorge', 'milho', 'nulos', 'pinto', 'tendo', 'bruto', 'subir', 'ponte', 'bento', 'penis', 'super', 'fluor', 'forum', 'podem', 'surge', 'chuva', 'culto', 'golpe', 'toque', 'filme', 'hotel', 'pediu', 'virus', 'vento', 'inves', 'humor', 'fruto', 'zinco', 'fonte', 'areia', 'aerea', 'dizer', 'digno', 'chile', 'grupo', 'nivel', 'tenho', 'acaba', 'dutos', 'tubos', 'bicho', 'houve', 'vindo', 'fixos', 'vendo', 'fizer', 'quite', 'vinte', 'aroma', 'mundo', 'puder', 'velho', 'filho', 'areas', 'cujos', 'aviao', 'fecho', 'tunel', 'jovem', 'maria', 'clube', 'tupis', 'salao', 'barao', 'pneus', 'agora', 'atrai', 'dizem', 'duplo', 'vinho', 'raras', 'fugir', 'aereo', 'nacao', 'daria', 'praia', 'arabe', 'fique', 'razao', 'sabao', 'acima', 'venus', 'alema', 'luzes', 'feliz', 'reduz', 'varia', 'faria', 'lagoa', 'mania', 'racas', 'caras', 'nuvem', 'armas', 'adota', 'saida', 'saiba', 'sabia', 'parar', 'barra', 'junto', 'atuar', 'coroa', 'cacar', 'clara', 'marca', 'apoio', 'bacia', 'atras', 'fundo', 'carta', 'matar', 'causa', 'aulas', 'ainda', 'etapa', 'casas', 'salas', 'massa', 'fluxo', 'cacau', 'caixa', 'trata', 'ativa', 'casca', 'casal', 'lamas', 'adoro', 'afeta', 'porao', 'praca', 'param', 'piada', 'papai', 'orgao', 'graca', 'carga', 'larga', 'grama', 'safra', 'atual', 'atuam', 'exata', 'anula', 'anual', 'japao', 'latas', 'altas', 'matas', 'raros', 'prata', 'lavar', 'iriam', 'nadar', 'andar', 'usada', 'falar', 'ideia', 'angra', 'aguas', 'passa', 'atomo', 'carro', 'gavea', 'matam', 'morar', 'nocao', 'zumbi', 'lanca', 'canal', 'vazao', 'cauda', 'baixa', 'paula', 'santa', 'achar', 'julho', 'usava', 'bahia', 'caspa', 'basal', 'samba', 'ambas', 'algas', 'serra', 'natal', 'praga', 'pagar', 'tabua', 'opcao', 'placa', 'palma', 'faixa', 'ampla', 'datas', 'tarja', 'havia', 'patas', 'pasta', 'basta', 'criar', 'falsa', 'hindu', 'viaja', 'fazia', 'gasta', 'tanta', 'induz', 'datam', 'reage', 'rodar', 'botao', 'tampa', 'barro', 'danca', 'manda', 'andam', 'plana', 'falam', 'fauna', 'vasta', 'tirar', 'terra', 'junho', 'viria', 'anion', 'dadas', 'moram', 'rapaz', 'sousa', 'taxas', 'chama', 'acham', 'falta', 'pagam', 'fadas', 'abrir', 'light', 'vagas', 'sacos', 'casos', 'girar', 'somas', 'regra', 'gerar', 'manha', 'arroz', 'cerca', 'henry', 'midia', 'ajuda', 'banda', 'trato', 'virar', 'essas', 'nossa', 'chapa', 'curar', 'palha', 'rural', 'local', 'capaz', 'femea', 'assim', 'secas', 'exame', 'sapos', 'possa', 'passo', 'bossa', 'tomam', 'morro', 'oleos', 'falha', 'mesma', 'idade', 'setas', 'estas', 'ganha', 'nessa', 'serie', 'vasos', 'total', 'rotor', 'erros', 'durar', 'otimo', 'dessa', 'passe', 'bases', 'corre', 'morre', 'couro', 'gases', 'tanto', 'rolos', 'sodio', 'vivia', 'dizia', 'irene', 'sitio', 'torre', 'oeste', 'outro', 'fases', 'cloro', 'dados', 'usual', 'grega', 'legal', 'ossos', 'tinta', 'polpa', 'bomba', 'tenta', 'motor', 'morto', 'redor', 'peoes', 'rigor', 'somos', 'reter', 'louco', 'dando', 'trono', 'torno', 'seres', 'cache', 'leite', 'elite', 'porco', 'corpo', 'ferro', 'nosso', 'papel', 'diogo', 'tomou', 'serem', 'indio', 'gerir', 'porto', 'obvio', 'reune', 'vivas', 'posso', 'mesmo', 'fieis', 'nunca', 'oxido', 'pouco', 'mudam', 'esses', 'russo', 'senso', 'senos', 'modos', 'copos', 'ciclo', 'terem', 'temer', 'retem', 'forno', 'comem', 'dobro', 'bordo', 'conto', 'meses', 'redes', 'ovulo', 'bloco', 'todos', 'disso', 'posto', 'botos', 'doses', 'nodos', 'donos', 'posse', 'pesos', 'focos', 'entre', 'cinco', 'evite', 'gosto', 'ouviu', 'ceder', 'estes', 'expoe', 'nesse', 'serve', 'votos', 'olhos', 'fotos', 'congo', 'novos', 'longo', 'mogno', 'fosse', 'leste', 'neles', 'durou', 'grego', 'sucos', 'disse', 'molho', 'desse', 'segue', 'ponto', 'tecle', 'boldo', 'sonho', 'mexer', 'teste', 'cedeu', 'deixe', 'peixe', 'exibe', 'sente', 'neste', 'entes', 'povos', 'globo', 'frete', 'desce', 'exige', 'deles', 'peles', 'perde', 'fogos', 'beber', 'mente', 'dedos', 'xviii', 'comum', 'museu', 'medem', 'feixe', 'chico', 'civis', 'jogou', 'deste', 'treze', 'homem', 'peste', 'leves', 'pense', 'verde', 'dever', 'preve', 'breve', 'jogos', 'febre', 'tente', 'genes', 'civil', 'detem', 'mudou', 'viver', 'desde', 'donde', 'bebes', 'vivos', 'leque', 'texto', 'tende', 'dente', 'subiu', 'gente', 'weber', 'enche', 'viveu', 'devem', 'vivem', 'bulbo', 'jesus', 'vezes', 'fezes', 'chefe', 'fugiu', 'judeu', 'duque', 'jejum', 'deduz')\n"
          ]
        }
      ]
    },
    {
      "cell_type": "code",
      "source": [
        "import random\n",
        "from datetime import datetime\n",
        "\n",
        "# Sorteio entre 10% das palavras populares com maior peso\n",
        "random.seed(datetime.now().timestamp)\n",
        "idx = random.randint(0, int(len(maisPopulares)*0.1))\n",
        "\n",
        "print(popularesComMaiorPeso[idx])"
      ],
      "metadata": {
        "id": "ZGp-4kLgUaML"
      },
      "execution_count": null,
      "outputs": []
    },
    {
      "cell_type": "markdown",
      "source": [
        "Escolha da próxima palavra"
      ],
      "metadata": {
        "id": "N3_Pr6waYIfw"
      }
    },
    {
      "cell_type": "code",
      "source": [
        "def obterPalpite(certeza, existe, nao_existe, nao_existe_na_posicao):\n",
        "  possiveisPalavras = obterPossiveisPalavras(certeza, existe, nao_existe, nao_existe_na_posicao)\n",
        "\n",
        "  maiorPeso = -1\n",
        "  palpite = \"\"\n",
        "\n",
        "  for possivelPalavra in possiveisPalavras:\n",
        "    pesoPalavra = popularidade.get(possivelPalavra, 0)\n",
        "    stat = stats[possivelPalavra]\n",
        "    pesoPalavra = stat[0] + getValorPorClasse(stat[1])\n",
        "\n",
        "    if pesoPalavra > maiorPeso:\n",
        "      maiorPeso = pesoPalavra\n",
        "      palpite = possivelPalavra\n",
        "      print(possivelPalavra, maiorPeso)\n",
        "    \n",
        "  return palpite"
      ],
      "metadata": {
        "id": "HbuwSeNTNuXN"
      },
      "execution_count": 41,
      "outputs": []
    },
    {
      "cell_type": "code",
      "source": [
        "# Se fosse tentado a palavra \"TERMO\" e a palavra certa fosse \"BRACO\", \n",
        "# os vetores abaixo deverão ser preenchidos da seguinte forma\n",
        "# certeza = [\"\",\"\",\"\",\"\",\"o\"]\n",
        "# existe = [\"r\"]\n",
        "# nao_existe = [\"b\",\"a\",\"c\"]\n",
        "# nao_existe_na_posicao = [\"\", \"r\", \"\", \"\", \"\"]\n",
        "\n",
        "certeza = [\"\",\"\",\"\",\"\",\"\"]\n",
        "existe = []\n",
        "nao_existe = []\n",
        "nao_existe_na_posicao = [\"\", \"\", \"\", \"\", \"\"]\n",
        "\n",
        "palpite = obterPalpite(certeza, existe, nao_existe, nao_existe_na_posicao)\n",
        "\n",
        "print(\"Palpite: \" + palpite.upper())"
      ],
      "metadata": {
        "id": "TaQNo0wJv8Fr"
      },
      "execution_count": null,
      "outputs": []
    }
  ]
}